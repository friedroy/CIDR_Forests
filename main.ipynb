{
 "cells": [
  {
   "cell_type": "code",
   "execution_count": null,
   "metadata": {},
   "outputs": [],
   "source": [
    "import sys\n",
    "# !conda install --yes --prefix {sys.prefix} -c conda-forge pygam tsfresh"
   ]
  },
  {
   "cell_type": "code",
   "execution_count": null,
   "metadata": {},
   "outputs": [],
   "source": [
    "import numpy as np\n",
    "import pygam\n",
    "from load_data import load_learnable\n",
    "from basic_models import validate_models\n",
    "from feature_importance import perm_feature_importance\n",
    "from model_evaluation import model_residuals\n",
    "from sklearn.linear_model import LinearRegression, BayesianRidge\n",
    "from sklearn.tree import DecisionTreeRegressor\n",
    "from sklearn.ensemble import RandomForestRegressor, GradientBoostingRegressor, ExtraTreesRegressor\n",
    "from time import time"
   ]
  },
  {
   "cell_type": "code",
   "execution_count": null,
   "metadata": {},
   "outputs": [],
   "source": [
    "models = [\n",
    "    ('LR', LinearRegression(normalize=True)),\n",
    "    ('BRidge', BayesianRidge(normalize=True)),\n",
    "    ('DT-5', DecisionTreeRegressor(max_depth=5)),\n",
    "    ('DT-10', DecisionTreeRegressor(max_depth=10)),\n",
    "    ('RF-5', RandomForestRegressor(max_depth=5)),\n",
    "    ('RF-10', RandomForestRegressor(max_depth=10)),\n",
    "    ('XGB-5', GradientBoostingRegressor(max_depth=5)),\n",
    "    ('XGB-10', GradientBoostingRegressor(max_depth=10)),\n",
    "    ('Extra', ExtraTreesRegressor()),\n",
    "]"
   ]
  },
  {
   "cell_type": "code",
   "execution_count": null,
   "metadata": {},
   "outputs": [],
   "source": [
    "X, y, features, times = load_learnable(remove_att=False, difference=True, lookback=1)"
   ]
  },
  {
   "cell_type": "code",
   "execution_count": null,
   "metadata": {},
   "outputs": [],
   "source": [
    "N = X.shape[0] // len(np.unique(times))\n",
    "train = np.ones(X.shape[0]).astype(bool)\n",
    "train[-2*N:] = False\n",
    "test = ~train"
   ]
  },
  {
   "cell_type": "code",
   "execution_count": null,
   "metadata": {},
   "outputs": [],
   "source": [
    "t = time()\n",
    "best_mdls = validate_models(X[train], y[train], times[train], models=models)\n",
    "dt1 = time() - t\n",
    "print('Validation took {:.3f} seconds'.format(dt1))"
   ]
  },
  {
   "cell_type": "code",
   "execution_count": null,
   "metadata": {},
   "outputs": [],
   "source": [
    "t_r = time()\n",
    "model_residuals(X, y, times, features, models=best_mdls)\n",
    "dt2 = time()-t_r\n",
    "print('Residuals took {:.3f} seconds'.format(dt2))"
   ]
  },
  {
   "cell_type": "code",
   "execution_count": null,
   "metadata": {},
   "outputs": [],
   "source": [
    "t_fi = time()\n",
    "trained_mdls = perm_feature_importance((X[train], y[train]), (X[test], y[test]), features, models=models)\n",
    "dt3 = time()-t_fi\n",
    "print('Model training and feature importances took {:.3f} seconds'.format(dt3))\n",
    "print('In total, pipeline took {:.3f} minutes'.format((dt1 + dt2 + dt3)/60))"
   ]
  }
 ],
 "metadata": {
  "kernelspec": {
   "display_name": "Python 3",
   "language": "python",
   "name": "python3"
  },
  "language_info": {
   "codemirror_mode": {
    "name": "ipython",
    "version": 3
   },
   "file_extension": ".py",
   "mimetype": "text/x-python",
   "name": "python",
   "nbconvert_exporter": "python",
   "pygments_lexer": "ipython3",
   "version": "3.7.4"
  }
 },
 "nbformat": 4,
 "nbformat_minor": 4
}
